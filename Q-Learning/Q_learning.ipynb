{
 "cells": [
  {
   "cell_type": "code",
   "execution_count": 14,
   "metadata": {},
   "outputs": [],
   "source": [
    "import numpy as np\n",
    "from pandas import DataFrame\n",
    "import matplotlib\n",
    "import matplotlib.pyplot as plt\n",
    "import gym\n",
    "import blackjack as bj  #NoJoke"
   ]
  },
  {
   "cell_type": "code",
   "execution_count": 410,
   "metadata": {},
   "outputs": [],
   "source": [
    "env = bj.BlackjackEnv()\n",
    "Verbose = False     \n",
    "is_boost = True"
   ]
  },
  {
   "cell_type": "code",
   "execution_count": 443,
   "metadata": {},
   "outputs": [],
   "source": [
    "# given the player's score, whether it has a usable ace, and the dealer's facing up card\n",
    "# returns the Q-table index\n",
    "def index(player_score, usable_ace, dealer_card, boost=False):\n",
    "    if not boost:\n",
    "        if player_score < 12:\n",
    "            return (player_score - 4) * 10 + (dealer_card - 1)\n",
    "        return 80 + (player_score - 12) * 20 + (dealer_card - 1) * 2 + usable_ace * 1\n",
    "    return (player_score - 12) * 20 + (dealer_card - 1) * 2 + usable_ace * 1\n",
    "\n",
    "\n",
    "\n",
    "# given the Q-table, the player's score, whether it has a usable ace, the dealer's facing up card and the exploration rate\n",
    "# returns a random action with probability epsilon\n",
    "# or the most probable one according to the current Q-table with probability 1-epsilon\n",
    "def q_learning_action(Q_actions, epsilon, Q_double_actions=None):\n",
    "    # epsilon-greedy exploration\n",
    "    if np.random.random() < epsilon:\n",
    "        return env.action_space.sample()\n",
    "    \n",
    "    if Q_double_actions is not None:\n",
    "        return np.argmax(np.concatenate((Q_actions, Q_double_actions))) % 2\n",
    "    \n",
    "    # Q-Learning optimization\n",
    "    return np.argmax(Q_actions) \n",
    "    \n",
    "    \n",
    "    \n",
    "# returns a decreasing (exploration) rate, in a inverted sigmoid-like (but with a piecewise linear function) shape\n",
    "def decrease_rate(x):\n",
    "    # returns a high exploration rate in the first epochs\n",
    "    if x < 0.05:\n",
    "        return 1\n",
    "    if x < 0.1:\n",
    "        return 1 - 0.05 * (x - 0.05) / 0.05\n",
    "    # the exploration rate is then decreasing a lot in the next few epochs\n",
    "    elif x < 0.25:\n",
    "        return 0.95 - 0.9 * (x - 0.1) / 0.15\n",
    "    # the exploration rate decrease slower in the last epochs\n",
    "    elif x < 0.3:\n",
    "        return 0.05 - 0.05 * (x - 0.25) / 0.05\n",
    "    # no more exploration\n",
    "    return 0\n",
    "\n",
    "### to plot the inverted sigmoid-like shape\n",
    "# x = np.linspace(0,1,100)\n",
    "# y = [decrease_rate(el) for el in x]\n",
    "# plt.plot(x, y)\n",
    "# plt.show()\n",
    "    \n",
    "\n",
    "    \n",
    "    \n",
    "\n",
    "    \n",
    "def main(train=False, Q=None, Q_double=None, lr=0.115, gamma=0.15, epsilon=0.3, nb_games=100000, boost=False, double_Q_learning=False, plot_perf=False, Verbose=False):\n",
    "    # stats of the agent\n",
    "    avg_win = 0\n",
    "    avg_tie = 0\n",
    "    \n",
    "    # to keep memory of every couple state/action taken in every game\n",
    "    lst_states_actions_rewards = np.zeros((4, 3), dtype=int)\n",
    "    \n",
    "    # to keep memory of performance over training\n",
    "    if plot_perf:\n",
    "        perfs = []\n",
    "        epochs = []\n",
    "    \n",
    "    \n",
    "    \n",
    "    if train:   \n",
    "        if not boost:\n",
    "            # states: 4 to 21 (all the player scores possible => 18); whether the player has a soft ace or not (only for player scores higher than 12 => 2 * 10); and dealer's first card out (1 to 10 => 10)\n",
    "            # hence (8 + 10 * 2) * 10 = 280 states\n",
    "            # actions: 0 (stand) or 1 (hit)\n",
    "            Q = np.zeros((280, 2))\n",
    "            if double_Q_learning:\n",
    "                Q_double = np.zeros((280, 2))\n",
    "        else:\n",
    "            # states: 12 to 20 (all the non-trivial player scores possible, see below => 9); whether the player has a soft ace or not (=> 2); and dealer's first card out (1 to 10 => 10)\n",
    "            # hence 9 * 2 * 10 = 180 states\n",
    "            # actions: 0 (stand) or 1 (hit)\n",
    "            Q = np.zeros((180, 2))\n",
    "            if double_Q_learning:\n",
    "                Q_double = np.zeros((180, 2))\n",
    "    else:\n",
    "        epsilon = 0\n",
    "            \n",
    "            \n",
    "            \n",
    "    # for-loop to run nb_games blackjack games\n",
    "    for i_game in range(nb_games):\n",
    "        player_hand, dealer_card, usable_ace = env.reset()\n",
    "        player_score = bj.sum_hand(player_hand)\n",
    "          \n",
    "        #'''\n",
    "        if train:\n",
    "            if i_game < 3000:\n",
    "                epsilon = 1\n",
    "            else:\n",
    "                epsilon = 0\n",
    "#             epsilon = decrease_rate(i_game / nb_games)\n",
    "            \n",
    "            if boost and (player_score <= 11 or player_score == 21):\n",
    "                lst_states_actions_rewards[0, 0] = -1               # to know whether Q index exists\n",
    "            else:\n",
    "                lst_states_actions_rewards[0, 0] = index(player_score, usable_ace, dealer_card, boost)\n",
    "            \n",
    "        #lr = 0.2 * decrease_rate(i_game / nb_games)\n",
    "        #'''\n",
    "\n",
    "        \n",
    "        # according to the official rules, there cannot be more than 3 passes\n",
    "        for t in range(3):\n",
    "            \n",
    "            # first move is random\n",
    "            if i_game == 0 and t == 0:\n",
    "                action = env.action_space.sample()\n",
    "                \n",
    "            # to help the learning of our agent with trivial actions\n",
    "            if boost and (player_score <= 11 or player_score == 21):\n",
    "                # we want to hit (action=1) if the player score is lower than 11 (as the player cannot bust)\n",
    "                # we want to stand (action=0) if the player score is equal to 21 (as the player cannot perform better)\n",
    "                action = (player_score <= 11) * 1 \n",
    "                                    \n",
    "            elif double_Q_learning:\n",
    "                action = q_learning_action(Q[index(player_score, usable_ace, dealer_card, boost)], epsilon, Q_double_actions=Q_double[index(player_score, usable_ace, dealer_card, boost)])\n",
    "            else:\n",
    "                action = q_learning_action(Q[index(player_score, usable_ace, dealer_card, boost)], epsilon)\n",
    "                \n",
    "            \n",
    "            observation, reward, done, info = env.step(action)\n",
    "            new_player_hand, dealer_card, usable_ace = observation\n",
    "            new_player_score = bj.sum_hand(new_player_hand)\n",
    "            \n",
    "            if train:\n",
    "                lst_states_actions_rewards[t, 1] = action\n",
    "                lst_states_actions_rewards[t, 2] = reward\n",
    "                if (boost and (new_player_score <= 11 or new_player_score == 21)) or new_player_score > 21:\n",
    "                    lst_states_actions_rewards[t + 1, 0] = -1               # to know whether Q index exists\n",
    "                else:\n",
    "                    lst_states_actions_rewards[t + 1, 0] = index(new_player_score, usable_ace, dealer_card, boost) \n",
    "              \n",
    "            \n",
    "                        \n",
    "            \n",
    "            if Verbose:\n",
    "                print(\"Pass {} - Player's score:\".format(t), player_score)\n",
    "                if player_score > 21:\n",
    "                    print(\"Player has busted.\")\n",
    "\n",
    "\n",
    "            if done:\n",
    "                if train:\n",
    "                    #'''\n",
    "                    # to perform a retroactive learning (applied variation of n-step Q-learning)\n",
    "                    for i_update in range(t + 1):\n",
    "                        if lst_states_actions_rewards[i_update, 0] != -1:\n",
    "                            \n",
    "                            # computing the n-step reward\n",
    "                            reward = 0\n",
    "                            for i in range(i_update + 1):\n",
    "                                reward *= gamma\n",
    "                                reward += lst_states_actions_rewards[i, 2]\n",
    "#                                 if lst_states_actions_rewards[i, 2] == 0:\n",
    "#                                     reward += 0.5\n",
    "#                                 elif lst_states_actions_rewards[i, 2] == 1:\n",
    "#                                     reward += 1\n",
    "                                \n",
    "\n",
    "                            # Double Q-learning update\n",
    "                            if double_Q_learning:\n",
    "                                if np.random.random() < .5:     \n",
    "                                    Q[lst_states_actions_rewards[i_update, 0], lst_states_actions_rewards[i_update, 1]] *= 1 - lr\n",
    "                                    \n",
    "                                    if lst_states_actions_rewards[i_update + 1, 0] == -1:\n",
    "                                        Q[lst_states_actions_rewards[i_update, 0], lst_states_actions_rewards[i_update, 1]] += lr * reward    # that's it, as Q[lst_states_actions_rewards[i_update + 1, 0]] = 0 (lst_states_actions_rewards[i_update + 1, 0] is a final state)\n",
    "                                    else:\n",
    "                                        Q[lst_states_actions_rewards[i_update, 0], lst_states_actions_rewards[i_update, 1]] += lr * (reward + np.power(gamma, i_update) * Q_double[lst_states_actions_rewards[i_update + 1, 0], np.argmax(Q[lst_states_actions_rewards[i_update + 1, 0]])])\n",
    "                                \n",
    "                                else:\n",
    "                                    Q_double[lst_states_actions_rewards[i_update, 0], lst_states_actions_rewards[i_update, 1]] *= 1 - lr\n",
    "                                    \n",
    "                                    if lst_states_actions_rewards[i_update + 1, 0] == -1:\n",
    "                                        Q_double[lst_states_actions_rewards[i_update, 0], lst_states_actions_rewards[i_update, 1]] += lr * reward    # that's it, as Q_double[lst_states_actions_rewards[i_update + 1, 0]] = 0 (lst_states_actions_rewards[i_update + 1, 0] is a final state)\n",
    "                                    else:\n",
    "                                        Q_double[lst_states_actions_rewards[i_update, 0], lst_states_actions_rewards[i_update, 1]] += lr * (reward + np.power(gamma, i_update) * Q[lst_states_actions_rewards[i_update + 1, 0], np.argmax(Q_double[lst_states_actions_rewards[i_update + 1, 0]])])\n",
    "\n",
    "                            # Q-learning update\n",
    "                            else:\n",
    "                                Q[lst_states_actions_rewards[i_update, 0], lst_states_actions_rewards[i_update, 1]] *= 1 - lr\n",
    "                                #Q[lst_states_actions_rewards[i_update, 0], lst_states_actions_rewards[i_update, 1]] += lr * reward\n",
    "                                    \n",
    "                                if lst_states_actions_rewards[i_update + 1, 0] == -1:\n",
    "                                    Q[lst_states_actions_rewards[i_update, 0], lst_states_actions_rewards[i_update, 1]] += lr * reward    # that's it, as Q[lst_states_actions_rewards[i_update + 1, 0]] = 0 (lst_states_actions_rewards[i_update + 1, 0] is a final state)\n",
    "                                else:\n",
    "                                    Q[lst_states_actions_rewards[i_update, 0], lst_states_actions_rewards[i_update, 1]] += lr * (reward + np.power(gamma, i_update) * np.max(Q[lst_states_actions_rewards[i_update + 1, 0]]))\n",
    "\n",
    "                    #'''\n",
    "                    ''''''        \n",
    "                    epsilon *= 0.999\n",
    "                    lr *= 0.999\n",
    "                    ''''''\n",
    "                    \n",
    "                                    \n",
    "                                    \n",
    "                if Verbose:\n",
    "                    dealer_score = bj.score(env.dealer)\n",
    "                    print(\"Dealer's score:\", dealer_score)\n",
    "                    if dealer_score > 21:\n",
    "                        print(\"Dealer has busted.\")\n",
    "                \n",
    "                #if the player won the game\n",
    "                if reward == 1.:\n",
    "                    avg_win += 1\n",
    "                    if Verbose:\n",
    "                        print(\"GAME WON\")\n",
    "                        print()\n",
    "                #if there has been a draw\n",
    "                elif reward == 0:\n",
    "                    avg_tie += 1\n",
    "                    if Verbose:\n",
    "                        print(\"TIE\")\n",
    "                        print()\n",
    "                #if the player lost the game\n",
    "                else:\n",
    "                    if Verbose:\n",
    "                        print(\"GAME LOST\")\n",
    "                        print()\n",
    "                break\n",
    "                \n",
    "                                   \n",
    "            player_score = new_player_score\n",
    "            \n",
    "            \n",
    "            \n",
    "        if plot_perf and i_game > 0 and i_game % 100 == 0:\n",
    "            perfs.append(100 * ((2 * avg_win + avg_tie) / i_game - 1))\n",
    "            epochs.append(i_game)\n",
    "                        \n",
    "            \n",
    "            \n",
    "        \n",
    "    if plot_perf:\n",
    "        plt.plot(epochs, perfs)\n",
    "        plt.show()\n",
    "        \n",
    "    if Verbose:\n",
    "        print(\"Average winning score with Q-learning:\", 100 * avg_win / nb_games, \"%\")\n",
    "        print(\"Ties:\", 100 * avg_tie / nb_games, \"%  ||  Losses:\", 100 * (1 - (avg_win + avg_tie) / nb_games), \"%\")\n",
    "        print(\"Performance over 100 games:\", round(100 * ((2 * avg_win + avg_tie) / nb_games - 1), 2))\n",
    "\n",
    "    env.close()\n",
    "\n",
    "    print(avg_win/nb_games)\n",
    "    print(avg_tie/nb_games)\n",
    "    \n",
    "    #if in train mode, return the Q-table (and the Q_double table)\n",
    "    if train:\n",
    "        print(round(100 * ((2 * avg_win + avg_tie) / nb_games - 1), 2))\n",
    "        if double_Q_learning:\n",
    "            return Q, Q_double\n",
    "        return Q\n",
    "    \n",
    "    #if not in train mode, return the performance over 100 games\n",
    "    return round(100 * ((2 * avg_win + avg_tie) / nb_games - 1), 2)"
   ]
  },
  {
   "cell_type": "code",
   "execution_count": 450,
   "metadata": {},
   "outputs": [
    {
     "data": {
      "image/png": "[encoded data removed]",
      "text/plain": [
       "<Figure size 432x288 with 1 Axes>"
      ]
     },
     "metadata": {
      "needs_background": "light"
     },
     "output_type": "display_data"
    },
    {
     "name": "stdout",
     "output_type": "stream",
     "text": [
      "0.33838\n",
      "0.11351\n",
      "-20.97\n"
     ]
    },
    {
     "data": {
      "image/png": "[encoded data removed]",
      "text/plain": [
       "<Figure size 432x288 with 1 Axes>"
      ]
     },
     "metadata": {
      "needs_background": "light"
     },
     "output_type": "display_data"
    },
    {
     "name": "stdout",
     "output_type": "stream",
     "text": [
      "0.37601\n",
      "0.08498\n",
      "-16.3\n"
     ]
    }
   ],
   "source": [
    "Q_table = main(train=True, boost=False, nb_games=100000, epsilon=0.3, gamma=0.15, lr=0.115, plot_perf=True)\n",
    "print(main(train=False, Q=Q_table, boost=False, nb_games=100000, plot_perf=True))"
   ]
  },
  {
   "cell_type": "code",
   "execution_count": 460,
   "metadata": {},
   "outputs": [
    {
     "data": {
      "image/png": "[encoded data removed]",
      "text/plain": [
       "<Figure size 432x288 with 1 Axes>"
      ]
     },
     "metadata": {
      "needs_background": "light"
     },
     "output_type": "display_data"
    },
    {
     "name": "stdout",
     "output_type": "stream",
     "text": [
      "0.32826\n",
      "0.11475\n",
      "-22.87\n"
     ]
    },
    {
     "data": {
      "image/png": "[encoded data removed]",
      "text/plain": [
       "<Figure size 432x288 with 1 Axes>"
      ]
     },
     "metadata": {
      "needs_background": "light"
     },
     "output_type": "display_data"
    },
    {
     "name": "stdout",
     "output_type": "stream",
     "text": [
      "0.3623\n",
      "0.0832\n",
      "-19.22\n"
     ]
    }
   ],
   "source": [
    "Q_table, Q_double_table = main(train=True, boost=True, double_Q_learning=True, gamma=0.6, lr=0.4, plot_perf=True)\n",
    "print(main(train=False, Q=Q_table, Q_double=Q_double_table, boost=True, double_Q_learning=True, plot_perf=True))"
   ]
  },
  {
   "cell_type": "markdown",
   "metadata": {},
   "source": [
    "Testing different learning rates"
   ]
  },
  {
   "cell_type": "code",
   "execution_count": 278,
   "metadata": {
    "collapsed": true
   },
   "outputs": [
    {
     "name": "stdout",
     "output_type": "stream",
     "text": [
      "-24.5\n",
      "-18.43\n",
      "-20.38\n",
      "-18.15\n",
      "-16.92\n",
      "-18.82\n",
      "-16.99\n",
      "-17.76\n",
      "-17.31\n",
      "-19.97\n"
     ]
    },
    {
     "data": {
      "image/png": "[encoded data removed]",
      "text/plain": [
       "<Figure size 432x288 with 1 Axes>"
      ]
     },
     "metadata": {
      "needs_background": "light"
     },
     "output_type": "display_data"
    }
   ],
   "source": [
    "lst_lr = [1, 0.5, 0.3, 0.2, 0.1, 1e-2, 1e-3, 1e-5, 1e-10, 0]\n",
    "lst = []\n",
    "\n",
    "for lr in lst_lr:\n",
    "    Q_table = main(train=True, boost=is_boost, nb_games=50000, lr=lr)\n",
    "    lst.append(main(train=False, boost=is_boost, nb_games=10000, Q=Q_table, lr=lr))\n",
    "    print(lst[-1])\n",
    "    \n",
    "    \n",
    "plt.plot(lst_lr, lst)\n",
    "plt.show()"
   ]
  },
  {
   "cell_type": "markdown",
   "metadata": {},
   "source": [
    "Testing different discount rates"
   ]
  },
  {
   "cell_type": "code",
   "execution_count": 304,
   "metadata": {
    "collapsed": true
   },
   "outputs": [
    {
     "name": "stdout",
     "output_type": "stream",
     "text": [
      "-19.04\n",
      "-16.05\n",
      "-17.61\n",
      "-16.7\n",
      "-15.21\n",
      "-17.13\n",
      "-17.4\n",
      "-18.1\n",
      "-18.15\n",
      "-17.92\n"
     ]
    },
    {
     "data": {
      "image/png": "[encoded data removed]",
      "text/plain": [
       "<Figure size 432x288 with 1 Axes>"
      ]
     },
     "metadata": {
      "needs_background": "light"
     },
     "output_type": "display_data"
    }
   ],
   "source": [
    "lst_gamma = [1, 0.5, 0.3, 0.2, 0.1, 1e-2, 1e-3, 1e-5, 1e-10, 0]\n",
    "lst = []\n",
    "\n",
    "for gamma in lst_gamma:\n",
    "    Q_table = main(train=True, boost=is_boost, nb_games=50000, gamma=gamma)\n",
    "    lst.append(main(train=False, boost=is_boost, nb_games=10000, Q=Q_table, gamma=gamma))\n",
    "    print(lst[-1])\n",
    "    \n",
    "    \n",
    "plt.plot(lst_gamma, lst)\n",
    "plt.show()"
   ]
  },
  {
   "cell_type": "markdown",
   "metadata": {},
   "source": [
    "Testing different exploration rates"
   ]
  },
  {
   "cell_type": "code",
   "execution_count": 305,
   "metadata": {
    "collapsed": true
   },
   "outputs": [
    {
     "name": "stdout",
     "output_type": "stream",
     "text": [
      "-17.3\n",
      "-15.55\n",
      "-15.99\n",
      "-16.76\n",
      "-18.26\n",
      "-16.69\n",
      "-17.04\n",
      "-18.95\n",
      "-17.81\n",
      "-16.49\n"
     ]
    },
    {
     "data": {
      "image/png": "[encoded data removed]",
      "text/plain": [
       "<Figure size 432x288 with 1 Axes>"
      ]
     },
     "metadata": {
      "needs_background": "light"
     },
     "output_type": "display_data"
    }
   ],
   "source": [
    "lst_epsilon = [1, 0.5, 0.3, 0.2, 0.1, 1e-2, 1e-3, 1e-5, 1e-10, 0]\n",
    "lst = []\n",
    "\n",
    "for epsilon in lst_epsilon:\n",
    "    Q_table = main(train=True, boost=is_boost, nb_games=50000, epsilon=epsilon)\n",
    "    lst.append(main(train=False, boost=is_boost, nb_games=10000, Q=Q_table, epsilon=epsilon))\n",
    "    print(lst[-1])\n",
    "    \n",
    "    \n",
    "plt.plot(lst_epsilon, lst)\n",
    "plt.show()"
   ]
  },
  {
   "cell_type": "markdown",
   "metadata": {},
   "source": [
    "Testing best?"
   ]
  },
  {
   "cell_type": "code",
   "execution_count": 282,
   "metadata": {
    "collapsed": true
   },
   "outputs": [
    {
     "name": "stdout",
     "output_type": "stream",
     "text": [
      "lr = 1 || gamma = 1 || epsilon = 1\n",
      "-21.0\n",
      "lr = 1 || gamma = 1 || epsilon = 0.5\n",
      "-22.76\n",
      "lr = 1 || gamma = 1 || epsilon = 0.3\n",
      "-23.04\n",
      "lr = 1 || gamma = 1 || epsilon = 0.2\n",
      "-19.2\n",
      "lr = 1 || gamma = 1 || epsilon = 0.1\n",
      "-21.42\n",
      "lr = 1 || gamma = 1 || epsilon = 0.01\n",
      "-24.5\n",
      "lr = 1 || gamma = 1 || epsilon = 0.001\n",
      "-22.9\n",
      "lr = 1 || gamma = 1 || epsilon = 1e-05\n",
      "-25.68\n",
      "lr = 1 || gamma = 1 || epsilon = 1e-10\n",
      "-22.83\n",
      "lr = 1 || gamma = 1 || epsilon = 0\n",
      "-23.62\n",
      "lr = 1 || gamma = 0.5 || epsilon = 1\n",
      "-21.63\n",
      "lr = 1 || gamma = 0.5 || epsilon = 0.5\n",
      "-20.64\n",
      "lr = 1 || gamma = 0.5 || epsilon = 0.3\n",
      "-20.41\n",
      "lr = 1 || gamma = 0.5 || epsilon = 0.2\n",
      "-19.78\n",
      "lr = 1 || gamma = 0.5 || epsilon = 0.1\n",
      "-20.5\n",
      "lr = 1 || gamma = 0.5 || epsilon = 0.01\n",
      "-16.78\n",
      "lr = 1 || gamma = 0.5 || epsilon = 0.001\n",
      "-20.87\n",
      "lr = 1 || gamma = 0.5 || epsilon = 1e-05\n",
      "-22.2\n",
      "lr = 1 || gamma = 0.5 || epsilon = 1e-10\n",
      "-20.63\n",
      "lr = 1 || gamma = 0.5 || epsilon = 0\n",
      "-18.88\n",
      "lr = 1 || gamma = 0.3 || epsilon = 1\n",
      "-18.4\n",
      "lr = 1 || gamma = 0.3 || epsilon = 0.5\n",
      "-19.23\n",
      "lr = 1 || gamma = 0.3 || epsilon = 0.3\n",
      "-20.29\n",
      "lr = 1 || gamma = 0.3 || epsilon = 0.2\n",
      "-18.8\n",
      "lr = 1 || gamma = 0.3 || epsilon = 0.1\n",
      "-17.39\n",
      "lr = 1 || gamma = 0.3 || epsilon = 0.01\n",
      "-23.49\n",
      "lr = 1 || gamma = 0.3 || epsilon = 0.001\n",
      "-19.18\n",
      "lr = 1 || gamma = 0.3 || epsilon = 1e-05\n",
      "-21.17\n",
      "lr = 1 || gamma = 0.3 || epsilon = 1e-10\n",
      "-19.75\n",
      "lr = 1 || gamma = 0.3 || epsilon = 0\n",
      "-21.82\n",
      "lr = 1 || gamma = 0.2 || epsilon = 1\n",
      "-18.12\n",
      "lr = 1 || gamma = 0.2 || epsilon = 0.5\n",
      "-18.59\n",
      "lr = 1 || gamma = 0.2 || epsilon = 0.3\n",
      "-18.6\n",
      "lr = 1 || gamma = 0.2 || epsilon = 0.2\n",
      "-19.33\n",
      "lr = 1 || gamma = 0.2 || epsilon = 0.1\n",
      "-21.96\n",
      "lr = 1 || gamma = 0.2 || epsilon = 0.01\n",
      "-21.18\n",
      "lr = 1 || gamma = 0.2 || epsilon = 0.001\n",
      "-18.77\n",
      "lr = 1 || gamma = 0.2 || epsilon = 1e-05\n",
      "-20.14\n",
      "lr = 1 || gamma = 0.2 || epsilon = 1e-10\n",
      "-17.66\n",
      "lr = 1 || gamma = 0.2 || epsilon = 0\n",
      "-21.03\n",
      "lr = 1 || gamma = 0.1 || epsilon = 1\n",
      "-17.57\n",
      "lr = 1 || gamma = 0.1 || epsilon = 0.5\n",
      "-18.77\n",
      "lr = 1 || gamma = 0.1 || epsilon = 0.3\n",
      "-18.63\n",
      "lr = 1 || gamma = 0.1 || epsilon = 0.2\n",
      "-19.37\n",
      "lr = 1 || gamma = 0.1 || epsilon = 0.1\n",
      "-20.33\n",
      "lr = 1 || gamma = 0.1 || epsilon = 0.01\n",
      "-18.0\n",
      "lr = 1 || gamma = 0.1 || epsilon = 0.001\n",
      "-18.51\n",
      "lr = 1 || gamma = 0.1 || epsilon = 1e-05\n",
      "-19.56\n",
      "lr = 1 || gamma = 0.1 || epsilon = 1e-10\n",
      "-20.06\n",
      "lr = 1 || gamma = 0.1 || epsilon = 0\n",
      "-17.67\n",
      "lr = 1 || gamma = 0.01 || epsilon = 1\n",
      "-17.64\n",
      "lr = 1 || gamma = 0.01 || epsilon = 0.5\n",
      "-18.35\n",
      "lr = 1 || gamma = 0.01 || epsilon = 0.3\n",
      "-19.18\n",
      "lr = 1 || gamma = 0.01 || epsilon = 0.2\n",
      "-22.55\n",
      "lr = 1 || gamma = 0.01 || epsilon = 0.1\n",
      "-17.79\n",
      "lr = 1 || gamma = 0.01 || epsilon = 0.01\n",
      "-20.74\n",
      "lr = 1 || gamma = 0.01 || epsilon = 0.001\n",
      "-19.15\n",
      "lr = 1 || gamma = 0.01 || epsilon = 1e-05\n",
      "-20.71\n",
      "lr = 1 || gamma = 0.01 || epsilon = 1e-10\n",
      "-18.96\n",
      "lr = 1 || gamma = 0.01 || epsilon = 0\n",
      "-17.42\n",
      "lr = 1 || gamma = 0.001 || epsilon = 1\n",
      "-19.97\n",
      "lr = 1 || gamma = 0.001 || epsilon = 0.5\n",
      "-18.76\n"
     ]
    },
    {
     "ename": "KeyboardInterrupt",
     "evalue": "",
     "output_type": "error",
     "traceback": [
      "\u001b[1;31m---------------------------------------------------------------------------\u001b[0m",
      "\u001b[1;31mKeyboardInterrupt\u001b[0m                         Traceback (most recent call last)",
      "\u001b[1;32m<ipython-input-282-4daeabb97de0>\u001b[0m in \u001b[0;36m<module>\u001b[1;34m\u001b[0m\n\u001b[0;32m      6\u001b[0m     \u001b[1;32mfor\u001b[0m \u001b[0mj\u001b[0m\u001b[1;33m,\u001b[0m \u001b[0mgamma\u001b[0m \u001b[1;32min\u001b[0m \u001b[0menumerate\u001b[0m\u001b[1;33m(\u001b[0m\u001b[0mlst\u001b[0m\u001b[1;33m)\u001b[0m\u001b[1;33m:\u001b[0m\u001b[1;33m\u001b[0m\u001b[1;33m\u001b[0m\u001b[0m\n\u001b[0;32m      7\u001b[0m         \u001b[1;32mfor\u001b[0m \u001b[0mk\u001b[0m\u001b[1;33m,\u001b[0m \u001b[0mepsilon\u001b[0m \u001b[1;32min\u001b[0m \u001b[0menumerate\u001b[0m\u001b[1;33m(\u001b[0m\u001b[0mlst\u001b[0m\u001b[1;33m)\u001b[0m\u001b[1;33m:\u001b[0m\u001b[1;33m\u001b[0m\u001b[1;33m\u001b[0m\u001b[0m\n\u001b[1;32m----> 8\u001b[1;33m             \u001b[0mQ_table\u001b[0m \u001b[1;33m=\u001b[0m \u001b[0mmain\u001b[0m\u001b[1;33m(\u001b[0m\u001b[0mtrain\u001b[0m\u001b[1;33m=\u001b[0m\u001b[1;32mTrue\u001b[0m\u001b[1;33m,\u001b[0m \u001b[0mboost\u001b[0m\u001b[1;33m=\u001b[0m\u001b[0mis_boost\u001b[0m\u001b[1;33m,\u001b[0m \u001b[0mnb_games\u001b[0m\u001b[1;33m=\u001b[0m\u001b[1;36m50000\u001b[0m\u001b[1;33m,\u001b[0m \u001b[0mlr\u001b[0m\u001b[1;33m=\u001b[0m\u001b[0mlr\u001b[0m\u001b[1;33m,\u001b[0m \u001b[0mgamma\u001b[0m\u001b[1;33m=\u001b[0m\u001b[0mgamma\u001b[0m\u001b[1;33m,\u001b[0m \u001b[0mepsilon\u001b[0m\u001b[1;33m=\u001b[0m\u001b[0mepsilon\u001b[0m\u001b[1;33m)\u001b[0m\u001b[1;33m\u001b[0m\u001b[1;33m\u001b[0m\u001b[0m\n\u001b[0m\u001b[0;32m      9\u001b[0m             \u001b[0mresult\u001b[0m \u001b[1;33m=\u001b[0m \u001b[0mmain\u001b[0m\u001b[1;33m(\u001b[0m\u001b[0mtrain\u001b[0m\u001b[1;33m=\u001b[0m\u001b[1;32mFalse\u001b[0m\u001b[1;33m,\u001b[0m \u001b[0mboost\u001b[0m\u001b[1;33m=\u001b[0m\u001b[0mis_boost\u001b[0m\u001b[1;33m,\u001b[0m \u001b[0mQ\u001b[0m\u001b[1;33m=\u001b[0m\u001b[0mQ_table\u001b[0m\u001b[1;33m,\u001b[0m \u001b[0mnb_games\u001b[0m\u001b[1;33m=\u001b[0m\u001b[1;36m10000\u001b[0m\u001b[1;33m,\u001b[0m \u001b[0mlr\u001b[0m\u001b[1;33m=\u001b[0m\u001b[0mlr\u001b[0m\u001b[1;33m,\u001b[0m \u001b[0mgamma\u001b[0m\u001b[1;33m=\u001b[0m\u001b[0mgamma\u001b[0m\u001b[1;33m,\u001b[0m \u001b[0mepsilon\u001b[0m\u001b[1;33m=\u001b[0m\u001b[0mepsilon\u001b[0m\u001b[1;33m)\u001b[0m\u001b[1;33m\u001b[0m\u001b[1;33m\u001b[0m\u001b[0m\n\u001b[0;32m     10\u001b[0m             \u001b[0mresults\u001b[0m\u001b[1;33m[\u001b[0m\u001b[0mi\u001b[0m\u001b[1;33m,\u001b[0m \u001b[0mj\u001b[0m\u001b[1;33m,\u001b[0m \u001b[0mk\u001b[0m\u001b[1;33m]\u001b[0m \u001b[1;33m=\u001b[0m \u001b[0mresult\u001b[0m\u001b[1;33m\u001b[0m\u001b[1;33m\u001b[0m\u001b[0m\n",
      "\u001b[1;32m<ipython-input-276-5651d29d5dbc>\u001b[0m in \u001b[0;36mmain\u001b[1;34m(train, Q, Q_double, lr, gamma, epsilon, nb_games, boost, double_Q_learning, plot_perf, Verbose)\u001b[0m\n\u001b[0;32m    192\u001b[0m                                     \u001b[0mQ\u001b[0m\u001b[1;33m[\u001b[0m\u001b[0mlst_states_actions_rewards\u001b[0m\u001b[1;33m[\u001b[0m\u001b[0mi_update\u001b[0m\u001b[1;33m,\u001b[0m \u001b[1;36m0\u001b[0m\u001b[1;33m]\u001b[0m\u001b[1;33m,\u001b[0m \u001b[0mlst_states_actions_rewards\u001b[0m\u001b[1;33m[\u001b[0m\u001b[0mi_update\u001b[0m\u001b[1;33m,\u001b[0m \u001b[1;36m1\u001b[0m\u001b[1;33m]\u001b[0m\u001b[1;33m]\u001b[0m \u001b[1;33m+=\u001b[0m \u001b[0mlr\u001b[0m \u001b[1;33m*\u001b[0m \u001b[0mreward\u001b[0m    \u001b[1;31m# that's it, as Q[lst_states_actions_rewards[i_update + 1, 0]] = 0 (lst_states_actions_rewards[i_update + 1, 0] is a final state)\u001b[0m\u001b[1;33m\u001b[0m\u001b[1;33m\u001b[0m\u001b[0m\n\u001b[0;32m    193\u001b[0m                                 \u001b[1;32melse\u001b[0m\u001b[1;33m:\u001b[0m\u001b[1;33m\u001b[0m\u001b[1;33m\u001b[0m\u001b[0m\n\u001b[1;32m--> 194\u001b[1;33m                                     \u001b[0mQ\u001b[0m\u001b[1;33m[\u001b[0m\u001b[0mlst_states_actions_rewards\u001b[0m\u001b[1;33m[\u001b[0m\u001b[0mi_update\u001b[0m\u001b[1;33m,\u001b[0m \u001b[1;36m0\u001b[0m\u001b[1;33m]\u001b[0m\u001b[1;33m,\u001b[0m \u001b[0mlst_states_actions_rewards\u001b[0m\u001b[1;33m[\u001b[0m\u001b[0mi_update\u001b[0m\u001b[1;33m,\u001b[0m \u001b[1;36m1\u001b[0m\u001b[1;33m]\u001b[0m\u001b[1;33m]\u001b[0m \u001b[1;33m+=\u001b[0m \u001b[0mlr\u001b[0m \u001b[1;33m*\u001b[0m \u001b[1;33m(\u001b[0m\u001b[0mreward\u001b[0m \u001b[1;33m+\u001b[0m \u001b[0mnp\u001b[0m\u001b[1;33m.\u001b[0m\u001b[0mpower\u001b[0m\u001b[1;33m(\u001b[0m\u001b[0mgamma\u001b[0m\u001b[1;33m,\u001b[0m \u001b[0mi_update\u001b[0m\u001b[1;33m)\u001b[0m \u001b[1;33m*\u001b[0m \u001b[0mnp\u001b[0m\u001b[1;33m.\u001b[0m\u001b[0mmax\u001b[0m\u001b[1;33m(\u001b[0m\u001b[0mQ\u001b[0m\u001b[1;33m[\u001b[0m\u001b[0mlst_states_actions_rewards\u001b[0m\u001b[1;33m[\u001b[0m\u001b[0mi_update\u001b[0m \u001b[1;33m+\u001b[0m \u001b[1;36m1\u001b[0m\u001b[1;33m,\u001b[0m \u001b[1;36m0\u001b[0m\u001b[1;33m]\u001b[0m\u001b[1;33m]\u001b[0m\u001b[1;33m)\u001b[0m\u001b[1;33m)\u001b[0m\u001b[1;33m\u001b[0m\u001b[1;33m\u001b[0m\u001b[0m\n\u001b[0m\u001b[0;32m    195\u001b[0m \u001b[1;33m\u001b[0m\u001b[0m\n\u001b[0;32m    196\u001b[0m                     \u001b[1;31m#'''\u001b[0m\u001b[1;33m\u001b[0m\u001b[1;33m\u001b[0m\u001b[1;33m\u001b[0m\u001b[0m\n",
      "\u001b[1;32m<__array_function__ internals>\u001b[0m in \u001b[0;36mamax\u001b[1;34m(*args, **kwargs)\u001b[0m\n",
      "\u001b[1;32m~\\Anaconda3\\lib\\site-packages\\numpy\\core\\fromnumeric.py\u001b[0m in \u001b[0;36mamax\u001b[1;34m(a, axis, out, keepdims, initial, where)\u001b[0m\n\u001b[0;32m   2666\u001b[0m     \"\"\"\n\u001b[0;32m   2667\u001b[0m     return _wrapreduction(a, np.maximum, 'max', axis, None, out,\n\u001b[1;32m-> 2668\u001b[1;33m                           keepdims=keepdims, initial=initial, where=where)\n\u001b[0m\u001b[0;32m   2669\u001b[0m \u001b[1;33m\u001b[0m\u001b[0m\n\u001b[0;32m   2670\u001b[0m \u001b[1;33m\u001b[0m\u001b[0m\n",
      "\u001b[1;32m~\\Anaconda3\\lib\\site-packages\\numpy\\core\\fromnumeric.py\u001b[0m in \u001b[0;36m_wrapreduction\u001b[1;34m(obj, ufunc, method, axis, dtype, out, **kwargs)\u001b[0m\n\u001b[0;32m     88\u001b[0m                 \u001b[1;32mreturn\u001b[0m \u001b[0mreduction\u001b[0m\u001b[1;33m(\u001b[0m\u001b[0maxis\u001b[0m\u001b[1;33m=\u001b[0m\u001b[0maxis\u001b[0m\u001b[1;33m,\u001b[0m \u001b[0mout\u001b[0m\u001b[1;33m=\u001b[0m\u001b[0mout\u001b[0m\u001b[1;33m,\u001b[0m \u001b[1;33m**\u001b[0m\u001b[0mpasskwargs\u001b[0m\u001b[1;33m)\u001b[0m\u001b[1;33m\u001b[0m\u001b[1;33m\u001b[0m\u001b[0m\n\u001b[0;32m     89\u001b[0m \u001b[1;33m\u001b[0m\u001b[0m\n\u001b[1;32m---> 90\u001b[1;33m     \u001b[1;32mreturn\u001b[0m \u001b[0mufunc\u001b[0m\u001b[1;33m.\u001b[0m\u001b[0mreduce\u001b[0m\u001b[1;33m(\u001b[0m\u001b[0mobj\u001b[0m\u001b[1;33m,\u001b[0m \u001b[0maxis\u001b[0m\u001b[1;33m,\u001b[0m \u001b[0mdtype\u001b[0m\u001b[1;33m,\u001b[0m \u001b[0mout\u001b[0m\u001b[1;33m,\u001b[0m \u001b[1;33m**\u001b[0m\u001b[0mpasskwargs\u001b[0m\u001b[1;33m)\u001b[0m\u001b[1;33m\u001b[0m\u001b[1;33m\u001b[0m\u001b[0m\n\u001b[0m\u001b[0;32m     91\u001b[0m \u001b[1;33m\u001b[0m\u001b[0m\n\u001b[0;32m     92\u001b[0m \u001b[1;33m\u001b[0m\u001b[0m\n",
      "\u001b[1;31mKeyboardInterrupt\u001b[0m: "
     ]
    }
   ],
   "source": [
    "lst = [1, 0.5, 0.3, 0.2, 0.1, 1e-2, 1e-3, 1e-5, 1e-10, 0]\n",
    "\n",
    "results = np.zeros((10, 10, 10))\n",
    "\n",
    "for i, lr in enumerate(lst):\n",
    "    for j, gamma in enumerate(lst):\n",
    "        for k, epsilon in enumerate(lst):\n",
    "            Q_table = main(train=True, boost=is_boost, nb_games=50000, lr=lr, gamma=gamma, epsilon=epsilon)\n",
    "            result = main(train=False, boost=is_boost, Q=Q_table, nb_games=10000, lr=lr, gamma=gamma, epsilon=epsilon)\n",
    "            results[i, j, k] = result\n",
    "            print(\"lr = \" + str(lr) + \" || gamma = \" + str(gamma) + \" || epsilon = \" + str(epsilon))\n",
    "            print(result)\n",
    "    \n",
    "    \n",
    "plt.plot(lst, results)\n",
    "plt.show()"
   ]
  },
  {
   "cell_type": "markdown",
   "metadata": {},
   "source": [
    "# To print the Q-table"
   ]
  },
  {
   "cell_type": "code",
   "execution_count": 453,
   "metadata": {},
   "outputs": [
    {
     "ename": "IndexError",
     "evalue": "index 182 is out of bounds for axis 0 with size 180",
     "output_type": "error",
     "traceback": [
      "\u001b[1;31m---------------------------------------------------------------------------\u001b[0m",
      "\u001b[1;31mIndexError\u001b[0m                                Traceback (most recent call last)",
      "\u001b[1;32m<ipython-input-453-37a8438e6b1b>\u001b[0m in \u001b[0;36m<module>\u001b[1;34m\u001b[0m\n\u001b[0;32m     24\u001b[0m     \u001b[1;32melse\u001b[0m\u001b[1;33m:\u001b[0m\u001b[1;33m\u001b[0m\u001b[1;33m\u001b[0m\u001b[0m\n\u001b[0;32m     25\u001b[0m         \u001b[1;32mfor\u001b[0m \u001b[0mdealer_card\u001b[0m \u001b[1;32min\u001b[0m \u001b[0mcards\u001b[0m\u001b[1;33m:\u001b[0m\u001b[1;33m\u001b[0m\u001b[1;33m\u001b[0m\u001b[0m\n\u001b[1;32m---> 26\u001b[1;33m             \u001b[1;32mif\u001b[0m \u001b[0mnp\u001b[0m\u001b[1;33m.\u001b[0m\u001b[0margmax\u001b[0m\u001b[1;33m(\u001b[0m\u001b[0mQ_table\u001b[0m\u001b[1;33m[\u001b[0m\u001b[0mindex\u001b[0m\u001b[1;33m(\u001b[0m\u001b[0mplayer_score\u001b[0m\u001b[1;33m,\u001b[0m \u001b[1;32mFalse\u001b[0m\u001b[1;33m,\u001b[0m \u001b[0mdealer_card\u001b[0m\u001b[1;33m,\u001b[0m \u001b[0mis_boost\u001b[0m\u001b[1;33m)\u001b[0m\u001b[1;33m]\u001b[0m\u001b[1;33m)\u001b[0m \u001b[1;33m==\u001b[0m \u001b[1;36m0\u001b[0m\u001b[1;33m:\u001b[0m\u001b[1;33m\u001b[0m\u001b[1;33m\u001b[0m\u001b[0m\n\u001b[0m\u001b[0;32m     27\u001b[0m                 \u001b[0mlst_hard_ace\u001b[0m\u001b[1;33m.\u001b[0m\u001b[0mappend\u001b[0m\u001b[1;33m(\u001b[0m\u001b[1;34m\"STAND\"\u001b[0m\u001b[1;33m)\u001b[0m\u001b[1;33m\u001b[0m\u001b[1;33m\u001b[0m\u001b[0m\n\u001b[0;32m     28\u001b[0m             \u001b[1;32melse\u001b[0m\u001b[1;33m:\u001b[0m\u001b[1;33m\u001b[0m\u001b[1;33m\u001b[0m\u001b[0m\n",
      "\u001b[1;31mIndexError\u001b[0m: index 182 is out of bounds for axis 0 with size 180"
     ]
    }
   ],
   "source": [
    "cards = [i for i in range (2, 11)]\n",
    "cards.append(1)\n",
    "\n",
    "dealer_cards = [str(i) + \"\" for i in cards]\n",
    "dealer_cards[-2] += \" or any face\"\n",
    "dealer_cards[-1] = \"ace\"\n",
    "player_scores = [str(i) for i in range(4, 22)]\n",
    "player_scores_with_soft_ace = [str(i) for i in range(12, 22)]\n",
    "\n",
    "\n",
    "combinations_hard_ace = []\n",
    "combinations_soft_ace = []\n",
    "for player_score in range(4, 22):\n",
    "    lst_hard_ace = []\n",
    "    if player_score > 11:\n",
    "        lst_soft_ace = []\n",
    "    if is_boost and player_score <= 11:\n",
    "        for dealer_card in cards:\n",
    "            lst_hard_ace.append(\"HIT\")\n",
    "    elif is_boost and player_score == 21:\n",
    "        for dealer_card in cards:\n",
    "            lst_hard_ace.append(\"STAND\")\n",
    "            lst_soft_ace.append(\"STAND\")\n",
    "    else:   \n",
    "        for dealer_card in cards:\n",
    "            if np.argmax(Q_table[index(player_score, False, dealer_card, is_boost)]) == 0:\n",
    "                lst_hard_ace.append(\"STAND\")\n",
    "            else:\n",
    "                lst_hard_ace.append(\"HIT\")\n",
    "            \n",
    "            if player_score > 11:\n",
    "                if np.argmax(Q_table[index(player_score, True, dealer_card, is_boost)]) == 0:\n",
    "                    lst_soft_ace.append(\"STAND\")\n",
    "                else:\n",
    "                    lst_soft_ace.append(\"HIT\")\n",
    "    combinations_hard_ace.append(lst_hard_ace)\n",
    "    if player_score > 11:\n",
    "        combinations_soft_ace.append(lst_soft_ace)\n",
    "\n",
    "        \n",
    "print(\"With a hard ace\")\n",
    "print(DataFrame(np.array(combinations_hard_ace), player_scores, dealer_cards)) \n",
    "print(\"With a soft ace\")\n",
    "print(DataFrame(np.array(combinations_soft_ace), player_scores_with_soft_ace, dealer_cards))  #begins at 12"
   ]
  },
  {
   "cell_type": "raw",
   "metadata": {},
   "source": [
    "For Double Q-Learning:"
   ]
  },
  {
   "cell_type": "code",
   "execution_count": 461,
   "metadata": {},
   "outputs": [
    {
     "ename": "IndexError",
     "evalue": "index 182 is out of bounds for axis 0 with size 180",
     "output_type": "error",
     "traceback": [
      "\u001b[1;31m---------------------------------------------------------------------------\u001b[0m",
      "\u001b[1;31mIndexError\u001b[0m                                Traceback (most recent call last)",
      "\u001b[1;32m<ipython-input-461-ab7e126911d9>\u001b[0m in \u001b[0;36m<module>\u001b[1;34m\u001b[0m\n\u001b[0;32m     15\u001b[0m     \u001b[1;32melse\u001b[0m\u001b[1;33m:\u001b[0m\u001b[1;33m\u001b[0m\u001b[1;33m\u001b[0m\u001b[0m\n\u001b[0;32m     16\u001b[0m         \u001b[1;32mfor\u001b[0m \u001b[0mdealer_card\u001b[0m \u001b[1;32min\u001b[0m \u001b[0mcards\u001b[0m\u001b[1;33m:\u001b[0m\u001b[1;33m\u001b[0m\u001b[1;33m\u001b[0m\u001b[0m\n\u001b[1;32m---> 17\u001b[1;33m             \u001b[1;32mif\u001b[0m \u001b[0mnp\u001b[0m\u001b[1;33m.\u001b[0m\u001b[0margmax\u001b[0m\u001b[1;33m(\u001b[0m\u001b[0mnp\u001b[0m\u001b[1;33m.\u001b[0m\u001b[0mconcatenate\u001b[0m\u001b[1;33m(\u001b[0m\u001b[1;33m(\u001b[0m\u001b[0mQ_table\u001b[0m\u001b[1;33m[\u001b[0m\u001b[0mindex\u001b[0m\u001b[1;33m(\u001b[0m\u001b[0mplayer_score\u001b[0m\u001b[1;33m,\u001b[0m \u001b[1;32mFalse\u001b[0m\u001b[1;33m,\u001b[0m \u001b[0mdealer_card\u001b[0m\u001b[1;33m,\u001b[0m \u001b[1;32mTrue\u001b[0m\u001b[1;33m)\u001b[0m\u001b[1;33m]\u001b[0m\u001b[1;33m,\u001b[0m \u001b[0mQ_double_table\u001b[0m\u001b[1;33m[\u001b[0m\u001b[0mindex\u001b[0m\u001b[1;33m(\u001b[0m\u001b[0mplayer_score\u001b[0m\u001b[1;33m,\u001b[0m \u001b[1;32mFalse\u001b[0m\u001b[1;33m,\u001b[0m \u001b[0mdealer_card\u001b[0m\u001b[1;33m,\u001b[0m \u001b[1;32mTrue\u001b[0m\u001b[1;33m)\u001b[0m\u001b[1;33m]\u001b[0m\u001b[1;33m)\u001b[0m\u001b[1;33m)\u001b[0m\u001b[1;33m)\u001b[0m \u001b[1;33m%\u001b[0m \u001b[1;36m2\u001b[0m \u001b[1;33m==\u001b[0m \u001b[1;36m0\u001b[0m\u001b[1;33m:\u001b[0m\u001b[1;33m\u001b[0m\u001b[1;33m\u001b[0m\u001b[0m\n\u001b[0m\u001b[0;32m     18\u001b[0m                 \u001b[0mlst_hard_ace\u001b[0m\u001b[1;33m.\u001b[0m\u001b[0mappend\u001b[0m\u001b[1;33m(\u001b[0m\u001b[1;34m\"STAND\"\u001b[0m\u001b[1;33m)\u001b[0m\u001b[1;33m\u001b[0m\u001b[1;33m\u001b[0m\u001b[0m\n\u001b[0;32m     19\u001b[0m             \u001b[1;32melse\u001b[0m\u001b[1;33m:\u001b[0m\u001b[1;33m\u001b[0m\u001b[1;33m\u001b[0m\u001b[0m\n",
      "\u001b[1;31mIndexError\u001b[0m: index 182 is out of bounds for axis 0 with size 180"
     ]
    }
   ],
   "source": [
    "combinations_hard_ace = []\n",
    "combinations_soft_ace = []\n",
    "\n",
    "for player_score in range(4, 22):\n",
    "    lst_hard_ace = []\n",
    "    if player_score > 11:\n",
    "        lst_soft_ace = []\n",
    "    if is_boost and player_score <= 11:\n",
    "        for dealer_card in cards:\n",
    "            lst_hard_ace.append(\"HIT\")\n",
    "    elif is_boost and player_score == 21:\n",
    "        for dealer_card in cards:\n",
    "            lst_hard_ace.append(\"STAND\")\n",
    "            lst_soft_ace.append(\"STAND\")\n",
    "    else:   \n",
    "        for dealer_card in cards:\n",
    "            if np.argmax(np.concatenate((Q_table[index(player_score, False, dealer_card, True)], Q_double_table[index(player_score, False, dealer_card, True)]))) % 2 == 0:\n",
    "                lst_hard_ace.append(\"STAND\")\n",
    "            else:\n",
    "                lst_hard_ace.append(\"HIT\")\n",
    "            \n",
    "            if player_score > 11:\n",
    "                if np.argmax(np.concatenate((Q_table[index(player_score, True, dealer_card, True)], Q_double_table[index(player_score, True, dealer_card, True)]))) % 2 == 0:\n",
    "                    lst_soft_ace.append(\"STAND\")\n",
    "                else:\n",
    "                    lst_soft_ace.append(\"HIT\")\n",
    "    combinations_hard_ace.append(lst_hard_ace)\n",
    "    if player_score > 11:\n",
    "        combinations_soft_ace.append(lst_soft_ace)\n",
    "\n",
    "        \n",
    "print(\"With a hard ace\")\n",
    "print(DataFrame(np.array(combinations_hard_ace), player_scores, dealer_cards)) \n",
    "print(\"With a soft ace\")\n",
    "print(DataFrame(np.array(combinations_soft_ace), player_scores_with_soft_ace, dealer_cards))  #begins at 12"
   ]
  },
  {
   "cell_type": "markdown",
   "metadata": {},
   "source": [
    "# To print Normal Play Strategy score"
   ]
  },
  {
   "cell_type": "code",
   "execution_count": 404,
   "metadata": {},
   "outputs": [
    {
     "data": {
      "image/png": "[encoded data removed]",
      "text/plain": [
       "<Figure size 432x288 with 1 Axes>"
      ]
     },
     "metadata": {
      "needs_background": "light"
     },
     "output_type": "display_data"
    },
    {
     "name": "stdout",
     "output_type": "stream",
     "text": [
      "0.377\n",
      "0.0992\n",
      "-14.68\n"
     ]
    }
   ],
   "source": [
    "#Building Normal Play Q-table\n",
    "Q_normal_play = np.zeros((280, 2))\n",
    "\n",
    "for player_score in range(4, 22):\n",
    "    for dealer_card in range(1, 11):\n",
    "        if player_score <= 11:\n",
    "            Q_normal_play[index(player_score, False, dealer_card)] = [0, 1]\n",
    "        elif player_score == 12:\n",
    "            Q_normal_play[index(player_score, True, dealer_card)] = [0, 1]\n",
    "            if 4 <= dealer_card <= 6:\n",
    "                Q_normal_play[index(player_score, False, dealer_card)] = [1, 0]\n",
    "            else:\n",
    "                Q_normal_play[index(player_score, False, dealer_card)] = [0, 1]\n",
    "        elif player_score <= 16:\n",
    "            Q_normal_play[index(player_score, True, dealer_card)] = [0, 1]\n",
    "            if 2 <= dealer_card <= 6:\n",
    "                Q_normal_play[index(player_score, False, dealer_card)] = [1, 0]\n",
    "            else:\n",
    "                Q_normal_play[index(player_score, False, dealer_card)] = [0, 1]\n",
    "        elif player_score == 17:\n",
    "            Q_normal_play[index(player_score, False, dealer_card)] = [1, 0]\n",
    "            Q_normal_play[index(player_score, True, dealer_card)] = [0, 1]\n",
    "        elif player_score == 18:\n",
    "            Q_normal_play[index(player_score, False, dealer_card)] = [1, 0]\n",
    "            if 2 <= dealer_card <= 8:\n",
    "                Q_normal_play[index(player_score, True, dealer_card)] = [1, 0]\n",
    "            else:\n",
    "                Q_normal_play[index(player_score, True, dealer_card)] = [0, 1]\n",
    "        else:\n",
    "            Q_normal_play[index(player_score, False, dealer_card)] = [1, 0]\n",
    "            Q_normal_play[index(player_score, True, dealer_card)] = [1, 0]\n",
    "            \n",
    "\n",
    "\n",
    "            \n",
    "print(main(train=False, Q=Q_normal_play, boost=False, nb_games=10000, plot_perf=True))"
   ]
  },
  {
   "cell_type": "markdown",
   "metadata": {},
   "source": [
    "To print Normal Play strategy"
   ]
  },
  {
   "cell_type": "code",
   "execution_count": 38,
   "metadata": {},
   "outputs": [
    {
     "name": "stdout",
     "output_type": "stream",
     "text": [
      "With a hard ace\n",
      "        2      3      4      5      6      7      8      9 10 or any face  \\\n",
      "4     HIT    HIT    HIT    HIT    HIT    HIT    HIT    HIT            HIT   \n",
      "5     HIT    HIT    HIT    HIT    HIT    HIT    HIT    HIT            HIT   \n",
      "6     HIT    HIT    HIT    HIT    HIT    HIT    HIT    HIT            HIT   \n",
      "7     HIT    HIT    HIT    HIT    HIT    HIT    HIT    HIT            HIT   \n",
      "8     HIT    HIT    HIT    HIT    HIT    HIT    HIT    HIT            HIT   \n",
      "9     HIT    HIT    HIT    HIT    HIT    HIT    HIT    HIT            HIT   \n",
      "10    HIT    HIT    HIT    HIT    HIT    HIT    HIT    HIT            HIT   \n",
      "11    HIT    HIT    HIT    HIT    HIT    HIT    HIT    HIT            HIT   \n",
      "12    HIT    HIT  STAND  STAND  STAND    HIT    HIT    HIT            HIT   \n",
      "13  STAND  STAND  STAND  STAND  STAND    HIT    HIT    HIT            HIT   \n",
      "14  STAND  STAND  STAND  STAND  STAND    HIT    HIT    HIT            HIT   \n",
      "15  STAND  STAND  STAND  STAND  STAND    HIT    HIT    HIT            HIT   \n",
      "16  STAND  STAND  STAND  STAND  STAND    HIT    HIT    HIT            HIT   \n",
      "17  STAND  STAND  STAND  STAND  STAND  STAND  STAND  STAND          STAND   \n",
      "18  STAND  STAND  STAND  STAND  STAND  STAND  STAND  STAND          STAND   \n",
      "19  STAND  STAND  STAND  STAND  STAND  STAND  STAND  STAND          STAND   \n",
      "20  STAND  STAND  STAND  STAND  STAND  STAND  STAND  STAND          STAND   \n",
      "21  STAND  STAND  STAND  STAND  STAND  STAND  STAND  STAND          STAND   \n",
      "\n",
      "      ace  \n",
      "4     HIT  \n",
      "5     HIT  \n",
      "6     HIT  \n",
      "7     HIT  \n",
      "8     HIT  \n",
      "9     HIT  \n",
      "10    HIT  \n",
      "11    HIT  \n",
      "12    HIT  \n",
      "13    HIT  \n",
      "14    HIT  \n",
      "15    HIT  \n",
      "16    HIT  \n",
      "17  STAND  \n",
      "18  STAND  \n",
      "19  STAND  \n",
      "20  STAND  \n",
      "21  STAND  \n",
      "With a soft ace\n",
      "        2      3      4      5      6      7      8      9 10 or any face  \\\n",
      "12    HIT    HIT    HIT    HIT    HIT    HIT    HIT    HIT            HIT   \n",
      "13    HIT    HIT    HIT    HIT    HIT    HIT    HIT    HIT            HIT   \n",
      "14    HIT    HIT    HIT    HIT    HIT    HIT    HIT    HIT            HIT   \n",
      "15    HIT    HIT    HIT    HIT    HIT    HIT    HIT    HIT            HIT   \n",
      "16    HIT    HIT    HIT    HIT    HIT    HIT    HIT    HIT            HIT   \n",
      "17    HIT    HIT    HIT    HIT    HIT    HIT    HIT    HIT            HIT   \n",
      "18  STAND  STAND  STAND  STAND  STAND  STAND  STAND    HIT            HIT   \n",
      "19  STAND  STAND  STAND  STAND  STAND  STAND  STAND  STAND          STAND   \n",
      "20  STAND  STAND  STAND  STAND  STAND  STAND  STAND  STAND          STAND   \n",
      "21  STAND  STAND  STAND  STAND  STAND  STAND  STAND  STAND          STAND   \n",
      "\n",
      "      ace  \n",
      "12    HIT  \n",
      "13    HIT  \n",
      "14    HIT  \n",
      "15    HIT  \n",
      "16    HIT  \n",
      "17    HIT  \n",
      "18    HIT  \n",
      "19  STAND  \n",
      "20  STAND  \n",
      "21  STAND  \n"
     ]
    }
   ],
   "source": [
    "combinations_normal_play_hard_ace = []\n",
    "combinations_normal_play_soft_ace = []\n",
    "\n",
    "for player_score in range(4, 22):\n",
    "    lst_hard_ace = []\n",
    "    if player_score > 11:\n",
    "        lst_soft_ace = []\n",
    "      \n",
    "    for dealer_card in cards:\n",
    "        if np.argmax(Q_normal_play[index(player_score, False, dealer_card)]) == 0:\n",
    "            lst_hard_ace.append(\"STAND\")\n",
    "        else:\n",
    "            lst_hard_ace.append(\"HIT\")\n",
    "\n",
    "        if player_score > 11:\n",
    "            if np.argmax(Q_normal_play[index(player_score, True, dealer_card)]) == 0:\n",
    "                lst_soft_ace.append(\"STAND\")\n",
    "            else:\n",
    "                lst_soft_ace.append(\"HIT\")\n",
    "    combinations_normal_play_hard_ace.append(lst_hard_ace)\n",
    "    if player_score > 11:\n",
    "        combinations_normal_play_soft_ace.append(lst_soft_ace)\n",
    "\n",
    "        \n",
    "print(\"With a hard ace\")\n",
    "print(DataFrame(np.array(combinations_normal_play_hard_ace), player_scores, dealer_cards)) \n",
    "print(\"With a soft ace\")\n",
    "print(DataFrame(np.array(combinations_normal_play_soft_ace), player_scores_with_soft_ace, dealer_cards))  #begins at 12"
   ]
  },
  {
   "cell_type": "code",
   "execution_count": 448,
   "metadata": {},
   "outputs": [
    {
     "name": "stdout",
     "output_type": "stream",
     "text": [
      "28.214285714285715%\n"
     ]
    }
   ],
   "source": [
    "err = 0\n",
    "\n",
    "if is_boost:\n",
    "    for i in range(180):\n",
    "        if np.argmax(Q_table[i]) != np.argmax(Q_normal_play[i + 80]):\n",
    "            err += 1\n",
    "    err /= 1.8\n",
    "else:\n",
    "    for i in range(280):\n",
    "        if np.argmax(Q_table[i]) != np.argmax(Q_normal_play[i]):\n",
    "            err += 1\n",
    "    err /= 2.8\n",
    "    \n",
    "print(str(err) + \"%\")"
   ]
  },
  {
   "cell_type": "markdown",
   "metadata": {},
   "source": [
    "For Double Q-Learning:"
   ]
  },
  {
   "cell_type": "code",
   "execution_count": 447,
   "metadata": {},
   "outputs": [
    {
     "name": "stdout",
     "output_type": "stream",
     "text": [
      "29.642857142857146%\n"
     ]
    }
   ],
   "source": [
    "err = 0\n",
    "\n",
    "if is_boost:\n",
    "    for i in range(180):\n",
    "        if np.argmax(np.concatenate((Q_table[i], Q_double_table[i]))) % 2 != np.argmax(Q_normal_play[i + 80]):\n",
    "            err += 1\n",
    "    err /= 1.8\n",
    "else:\n",
    "    for i in range(280):\n",
    "        if np.argmax(np.concatenate((Q_table[i], Q_double_table[i]))) % 2 != np.argmax(Q_normal_play[i]):\n",
    "            err += 1\n",
    "    err /= 2.8\n",
    "    \n",
    "print(str(err) + \"%\")"
   ]
  },
  {
   "cell_type": "code",
   "execution_count": null,
   "metadata": {},
   "outputs": [],
   "source": []
  }
 ],
 "metadata": {
  "kernelspec": {
   "display_name": "Python 3",
   "language": "python",
   "name": "python3"
  },
  "language_info": {
   "codemirror_mode": {
    "name": "ipython",
    "version": 3
   },
   "file_extension": ".py",
   "mimetype": "text/x-python",
   "name": "python",
   "nbconvert_exporter": "python",
   "pygments_lexer": "ipython3",
   "version": "3.7.4"
  }
 },
 "nbformat": 4,
 "nbformat_minor": 4
}
